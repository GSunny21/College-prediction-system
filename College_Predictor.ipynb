{
 "cells": [
  {
   "cell_type": "code",
   "execution_count": 15,
   "metadata": {},
   "outputs": [],
   "source": [
    "import pandas as pd\n",
    "import numpy as np\n",
    "import matplotlib.pyplot as plt\n",
    "import seaborn as sns\n",
    "from scipy.stats import uniform, randint\n",
    "\n",
    "from sklearn.metrics import auc, accuracy_score, confusion_matrix, mean_squared_error\n",
    "from sklearn.model_selection import cross_val_score, GridSearchCV, KFold, RandomizedSearchCV, train_test_split"
   ]
  },
  {
   "cell_type": "code",
   "execution_count": 16,
   "metadata": {},
   "outputs": [
    {
     "data": {
      "text/html": [
       "<div>\n",
       "<style scoped>\n",
       "    .dataframe tbody tr th:only-of-type {\n",
       "        vertical-align: middle;\n",
       "    }\n",
       "\n",
       "    .dataframe tbody tr th {\n",
       "        vertical-align: top;\n",
       "    }\n",
       "\n",
       "    .dataframe thead th {\n",
       "        text-align: right;\n",
       "    }\n",
       "</style>\n",
       "<table border=\"1\" class=\"dataframe\">\n",
       "  <thead>\n",
       "    <tr style=\"text-align: right;\">\n",
       "      <th></th>\n",
       "      <th>College Name</th>\n",
       "      <th>Rank</th>\n",
       "      <th>Branch</th>\n",
       "    </tr>\n",
       "  </thead>\n",
       "  <tbody>\n",
       "    <tr>\n",
       "      <th>0</th>\n",
       "      <td>College of Engineering, Pune</td>\n",
       "      <td>42</td>\n",
       "      <td>Computer</td>\n",
       "    </tr>\n",
       "    <tr>\n",
       "      <th>1</th>\n",
       "      <td>College of Engineering, Pune</td>\n",
       "      <td>56</td>\n",
       "      <td>Computer</td>\n",
       "    </tr>\n",
       "    <tr>\n",
       "      <th>2</th>\n",
       "      <td>College of Engineering, Pune</td>\n",
       "      <td>61</td>\n",
       "      <td>Computer</td>\n",
       "    </tr>\n",
       "    <tr>\n",
       "      <th>3</th>\n",
       "      <td>College of Engineering, Pune</td>\n",
       "      <td>74</td>\n",
       "      <td>Computer</td>\n",
       "    </tr>\n",
       "    <tr>\n",
       "      <th>4</th>\n",
       "      <td>College of Engineering, Pune</td>\n",
       "      <td>79</td>\n",
       "      <td>Computer</td>\n",
       "    </tr>\n",
       "    <tr>\n",
       "      <th>...</th>\n",
       "      <td>...</td>\n",
       "      <td>...</td>\n",
       "      <td>...</td>\n",
       "    </tr>\n",
       "    <tr>\n",
       "      <th>821</th>\n",
       "      <td>Dr. D. Y. Patil Unitech Society's Dr. D. Y. Pa...</td>\n",
       "      <td>129654</td>\n",
       "      <td>Civil</td>\n",
       "    </tr>\n",
       "    <tr>\n",
       "      <th>822</th>\n",
       "      <td>Kavikulguru Institute of Technology and Scienc...</td>\n",
       "      <td>130263</td>\n",
       "      <td>Civil</td>\n",
       "    </tr>\n",
       "    <tr>\n",
       "      <th>823</th>\n",
       "      <td>Kavikulguru Institute of Technology and Scienc...</td>\n",
       "      <td>131269</td>\n",
       "      <td>Civil</td>\n",
       "    </tr>\n",
       "    <tr>\n",
       "      <th>824</th>\n",
       "      <td>Kavikulguru Institute of Technology and Scienc...</td>\n",
       "      <td>132658</td>\n",
       "      <td>Civil</td>\n",
       "    </tr>\n",
       "    <tr>\n",
       "      <th>825</th>\n",
       "      <td>Kavikulguru Institute of Technology and Scienc...</td>\n",
       "      <td>135964</td>\n",
       "      <td>Civil</td>\n",
       "    </tr>\n",
       "  </tbody>\n",
       "</table>\n",
       "<p>826 rows × 3 columns</p>\n",
       "</div>"
      ],
      "text/plain": [
       "                                          College Name    Rank    Branch\n",
       "0                         College of Engineering, Pune      42  Computer\n",
       "1                         College of Engineering, Pune      56  Computer\n",
       "2                         College of Engineering, Pune      61  Computer\n",
       "3                         College of Engineering, Pune      74  Computer\n",
       "4                         College of Engineering, Pune      79  Computer\n",
       "..                                                 ...     ...       ...\n",
       "821  Dr. D. Y. Patil Unitech Society's Dr. D. Y. Pa...  129654     Civil\n",
       "822  Kavikulguru Institute of Technology and Scienc...  130263     Civil\n",
       "823  Kavikulguru Institute of Technology and Scienc...  131269     Civil\n",
       "824  Kavikulguru Institute of Technology and Scienc...  132658     Civil\n",
       "825  Kavikulguru Institute of Technology and Scienc...  135964     Civil\n",
       "\n",
       "[826 rows x 3 columns]"
      ]
     },
     "execution_count": 16,
     "metadata": {},
     "output_type": "execute_result"
    }
   ],
   "source": [
    "df=pd.read_csv('Datasets/colleges.csv')\n",
    "df.head()\n",
    "df.dropna()"
   ]
  },
  {
   "attachments": {},
   "cell_type": "markdown",
   "metadata": {},
   "source": [
    "# Label Encoding"
   ]
  },
  {
   "cell_type": "code",
   "execution_count": 17,
   "metadata": {},
   "outputs": [
    {
     "name": "stdout",
     "output_type": "stream",
     "text": [
      "['AISSMS College of Engineering, Pune'\n",
      " \"All India Shri Shivaji Memorial Society's Institute of Information Technology,Pune\"\n",
      " \"Bharati Vidyapeeth's College of Engineering,Lavale, Pune\"\n",
      " \"Bharatiya Vidya Bhavan's Sardar Patel College of Engineering Mumbai\"\n",
      " \"Bharatiya Vidya Bhavan's Sardar Patel College of Engineering, Mumbai\"\n",
      " 'College of Engineering, Pune'\n",
      " 'Cummins College of Engineering for Women, Pune'\n",
      " \"Dr. D. Y. Patil Pratishthan's D.Y.Patil College of Engineering Akurdi, Pune\"\n",
      " \"Dr. D. Y. Patil Unitech Society's Dr. D. Y. Patil Institute of Technology, Pimpri, Pune\"\n",
      " 'Dwarkadas J. Sanghvi College of Engineering, Mumbai'\n",
      " 'Fr. C. Rodrigues Institute of Technology, Navi Mumbai'\n",
      " 'GH Raisoni College of Engineering, Nagpur'\n",
      " 'Government College of Engineering, Amravati'\n",
      " 'Government College of Engineering, Aurangabad'\n",
      " 'Government College of Engineering, Chandrapur'\n",
      " 'Government College of Engineering, Karad'\n",
      " 'Government College of Engineering, Nagpur'\n",
      " 'Indira College of Engineering & Management, Pune'\n",
      " \"Jaywant Shikshan Prasarak Mandal's,Rajarshi Shahu College of Engineering\"\n",
      " \"K. E. Society's Rajarambapu Institute of Technology, Kolhapur\"\n",
      " 'K. J. Somaiya College of Engineering, Mumbai'\n",
      " 'K. K. Wagh Institute of Engineering Education and Research, Nashik'\n",
      " 'Kavikulguru Institute of Technology and Science, Nagpur'\n",
      " \"MGM's College of Engineering and Technology, Navi Mumbai\"\n",
      " 'MIT Academy of Engineering, Alandi'\n",
      " \"Marathwada Mitra Mandal's College of Engineering, Karvenagar, Pune\"\n",
      " \"Modern Education Society's College of Engineering, Pune\"\n",
      " 'PES Modern College of Engineering, Pune' 'PICT College, Pune'\n",
      " 'Pimpri Chinchwad College Of Engineering And Research, Ravet'\n",
      " 'Pimpri Chinchwad College of Engineering, Pune'\n",
      " 'Rajarambapu Institute of Technology, Sangli'\n",
      " \"Sandip Foundation's Sandip Institute of Technology and Research Centre, Nashik\"\n",
      " 'Sardar Patel Institute of Technology , Andheri, Mumbai'\n",
      " 'Shri Ramdeobaba College of Engineering and Management, Nagpur'\n",
      " 'Sinhgad College of Engineering, Pune'\n",
      " 'Thadomal Shahani Engineering College, Mumbai'\n",
      " 'Veermata Jijabai Technological Institute, Mumbai'\n",
      " 'Vishwakarma Institute of Technology, Pune'\n",
      " \"Vivekanand Education Society's Institute of Technology, Chembur, Mumbai\"\n",
      " 'Walchand College of Engineering, Sangli'\n",
      " 'Yeshwantrao Chavan College of Engineering, Nagpur']\n",
      "826\n",
      "42\n"
     ]
    }
   ],
   "source": [
    "colg=np.unique(df['College Name'])\n",
    "print(colg)\n",
    "print(len(df))\n",
    "print(len(colg))"
   ]
  },
  {
   "cell_type": "code",
   "execution_count": 18,
   "metadata": {},
   "outputs": [
    {
     "data": {
      "text/html": [
       "<div>\n",
       "<style scoped>\n",
       "    .dataframe tbody tr th:only-of-type {\n",
       "        vertical-align: middle;\n",
       "    }\n",
       "\n",
       "    .dataframe tbody tr th {\n",
       "        vertical-align: top;\n",
       "    }\n",
       "\n",
       "    .dataframe thead th {\n",
       "        text-align: right;\n",
       "    }\n",
       "</style>\n",
       "<table border=\"1\" class=\"dataframe\">\n",
       "  <thead>\n",
       "    <tr style=\"text-align: right;\">\n",
       "      <th></th>\n",
       "      <th>College Name</th>\n",
       "      <th>Rank</th>\n",
       "      <th>Branch</th>\n",
       "    </tr>\n",
       "  </thead>\n",
       "  <tbody>\n",
       "    <tr>\n",
       "      <th>0</th>\n",
       "      <td>5</td>\n",
       "      <td>42</td>\n",
       "      <td>Computer</td>\n",
       "    </tr>\n",
       "    <tr>\n",
       "      <th>1</th>\n",
       "      <td>5</td>\n",
       "      <td>56</td>\n",
       "      <td>Computer</td>\n",
       "    </tr>\n",
       "    <tr>\n",
       "      <th>2</th>\n",
       "      <td>5</td>\n",
       "      <td>61</td>\n",
       "      <td>Computer</td>\n",
       "    </tr>\n",
       "    <tr>\n",
       "      <th>3</th>\n",
       "      <td>5</td>\n",
       "      <td>74</td>\n",
       "      <td>Computer</td>\n",
       "    </tr>\n",
       "    <tr>\n",
       "      <th>4</th>\n",
       "      <td>5</td>\n",
       "      <td>79</td>\n",
       "      <td>Computer</td>\n",
       "    </tr>\n",
       "  </tbody>\n",
       "</table>\n",
       "</div>"
      ],
      "text/plain": [
       "   College Name  Rank    Branch\n",
       "0             5    42  Computer\n",
       "1             5    56  Computer\n",
       "2             5    61  Computer\n",
       "3             5    74  Computer\n",
       "4             5    79  Computer"
      ]
     },
     "execution_count": 18,
     "metadata": {},
     "output_type": "execute_result"
    }
   ],
   "source": [
    "code=[]\n",
    "for i in range(len(colg)):\n",
    "    code.append(i)\n",
    "\n",
    "df['College Name'] = df['College Name'].replace(colg,code)\n",
    "bak_college = np.array(df['College Name'])\n",
    "df.head()"
   ]
  },
  {
   "cell_type": "code",
   "execution_count": 19,
   "metadata": {},
   "outputs": [
    {
     "name": "stdout",
     "output_type": "stream",
     "text": [
      "['Civil' 'Computer' 'EnTC' 'IT' 'Mechanical']\n",
      "826\n",
      "5\n"
     ]
    }
   ],
   "source": [
    "branch=np.unique(df['Branch'])\n",
    "print(branch)\n",
    "print(len(df))\n",
    "print(len(branch))"
   ]
  },
  {
   "cell_type": "code",
   "execution_count": 20,
   "metadata": {},
   "outputs": [
    {
     "data": {
      "text/html": [
       "<div>\n",
       "<style scoped>\n",
       "    .dataframe tbody tr th:only-of-type {\n",
       "        vertical-align: middle;\n",
       "    }\n",
       "\n",
       "    .dataframe tbody tr th {\n",
       "        vertical-align: top;\n",
       "    }\n",
       "\n",
       "    .dataframe thead th {\n",
       "        text-align: right;\n",
       "    }\n",
       "</style>\n",
       "<table border=\"1\" class=\"dataframe\">\n",
       "  <thead>\n",
       "    <tr style=\"text-align: right;\">\n",
       "      <th></th>\n",
       "      <th>College Name</th>\n",
       "      <th>Rank</th>\n",
       "      <th>Branch</th>\n",
       "    </tr>\n",
       "  </thead>\n",
       "  <tbody>\n",
       "    <tr>\n",
       "      <th>0</th>\n",
       "      <td>5</td>\n",
       "      <td>42</td>\n",
       "      <td>1</td>\n",
       "    </tr>\n",
       "    <tr>\n",
       "      <th>1</th>\n",
       "      <td>5</td>\n",
       "      <td>56</td>\n",
       "      <td>1</td>\n",
       "    </tr>\n",
       "    <tr>\n",
       "      <th>2</th>\n",
       "      <td>5</td>\n",
       "      <td>61</td>\n",
       "      <td>1</td>\n",
       "    </tr>\n",
       "    <tr>\n",
       "      <th>3</th>\n",
       "      <td>5</td>\n",
       "      <td>74</td>\n",
       "      <td>1</td>\n",
       "    </tr>\n",
       "    <tr>\n",
       "      <th>4</th>\n",
       "      <td>5</td>\n",
       "      <td>79</td>\n",
       "      <td>1</td>\n",
       "    </tr>\n",
       "  </tbody>\n",
       "</table>\n",
       "</div>"
      ],
      "text/plain": [
       "   College Name  Rank  Branch\n",
       "0             5    42       1\n",
       "1             5    56       1\n",
       "2             5    61       1\n",
       "3             5    74       1\n",
       "4             5    79       1"
      ]
     },
     "execution_count": 20,
     "metadata": {},
     "output_type": "execute_result"
    }
   ],
   "source": [
    "code=[]\n",
    "for i in range(len(branch)):\n",
    "    code.append(i)\n",
    "\n",
    "df['Branch'] = df['Branch'].replace(branch,code)\n",
    "bak_college = np.array(df['Branch'])\n",
    "df.head()"
   ]
  },
  {
   "cell_type": "code",
   "execution_count": 21,
   "metadata": {},
   "outputs": [],
   "source": [
    "X = df.drop(columns=[\"College Name\"])\n",
    "Y = df['College Name']"
   ]
  },
  {
   "cell_type": "code",
   "execution_count": 22,
   "metadata": {},
   "outputs": [
    {
     "name": "stderr",
     "output_type": "stream",
     "text": [
      "C:\\Users\\Admin\\AppData\\Local\\Temp\\ipykernel_6216\\1450998898.py:1: UserWarning: \n",
      "\n",
      "`distplot` is a deprecated function and will be removed in seaborn v0.14.0.\n",
      "\n",
      "Please adapt your code to use either `displot` (a figure-level function with\n",
      "similar flexibility) or `histplot` (an axes-level function for histograms).\n",
      "\n",
      "For a guide to updating your code to use the new functions, please see\n",
      "https://gist.github.com/mwaskom/de44147ed2974457ad6372750bbe5751\n",
      "\n",
      "  sns.distplot(df['Rank'])\n"
     ]
    },
    {
     "data": {
      "text/plain": [
       "<AxesSubplot: xlabel='Rank', ylabel='Density'>"
      ]
     },
     "execution_count": 22,
     "metadata": {},
     "output_type": "execute_result"
    },
    {
     "data": {
      "image/png": "[encoded data removed]",
      "text/plain": [
       "<Figure size 640x480 with 1 Axes>"
      ]
     },
     "metadata": {},
     "output_type": "display_data"
    }
   ],
   "source": [
    "sns.distplot(df['Rank'])"
   ]
  },
  {
   "attachments": {},
   "cell_type": "markdown",
   "metadata": {},
   "source": [
    "# Classifiers"
   ]
  },
  {
   "cell_type": "code",
   "execution_count": 23,
   "metadata": {},
   "outputs": [
    {
     "name": "stdout",
     "output_type": "stream",
     "text": [
      "Accuracy:  0.8\n"
     ]
    }
   ],
   "source": [
    "#Decision Tree Classifier\n",
    "# from sklearn.tree import DecisionTreeClassifier\n",
    "# X_train, X_test, y_train, y_test = train_test_split(X.values, Y, test_size=40, random_state=36)\n",
    "\n",
    "# clf = DecisionTreeClassifier()\n",
    "# clf.fit(X_train,y_train)\n",
    "\n",
    "# preddt = clf.predict(X_test)\n",
    "\n",
    "# accuracy = clf.score(X_test,y_test)\n",
    "# accuracy = eval(\"%0.2f\"%accuracy)*100\n",
    "# print(\"Algorithm Score: \",accuracy,\"%\")\n",
    "\n",
    "\n",
    "\n",
    "# XGB Classifier\n",
    "from xgboost import XGBClassifier\n",
    "X_train, X_test, y_train, y_test = train_test_split(X.values, Y, test_size=20,random_state=36)\n",
    "\n",
    "from sklearn.preprocessing import LabelEncoder\n",
    "le = LabelEncoder()\n",
    "y_train = le.fit_transform(y_train)\n",
    "\n",
    "clf = XGBClassifier()\n",
    "clf.fit(X_train, y_train)\n",
    "\n",
    "y_pred = clf.predict(X_test)\n",
    "\n",
    "accuracy = clf.score(X_test, y_test)\n",
    "print(\"Accuracy: \", accuracy)\n",
    "\n",
    "\n",
    "\n",
    "# SVM\n",
    "# from sklearn.svm import SVC\n",
    "# from sklearn.preprocessing import StandardScaler\n",
    "\n",
    "# X_train, X_test, y_train, y_test = train_test_split(X.values, Y, test_size=0.05, random_state=36)\n",
    "\n",
    "# scaler = StandardScaler()\n",
    "# X_train_resampled = scaler.fit_transform(X_train)\n",
    "# X_test = scaler.transform(X_test)\n",
    "\n",
    "# clf = SVC(kernel='linear')\n",
    "# clf.fit(X_train_resampled, y_train)\n",
    "\n",
    "# y_pred = clf.predict(X_test)\n",
    "\n",
    "# accuracy = clf.score(X_test, y_test)\n",
    "# print(\"Accuracy: \", accuracy)\n",
    "\n",
    "\n",
    "\n",
    "# Random Forest\n",
    "# from sklearn.ensemble import RandomForestClassifier\n",
    "\n",
    "# X_train, X_test, y_train, y_test = train_test_split(X.values, Y, test_size=50, random_state=36)\n",
    "\n",
    "# clf = RandomForestClassifier()\n",
    "# clf.fit(X_train, y_train)\n",
    "\n",
    "# y_pred = clf.predict(X_test)\n",
    "\n",
    "# accuracy = clf.score(X_test, y_test)\n",
    "# print(\"Accuracy: \", accuracy)"
   ]
  },
  {
   "cell_type": "code",
   "execution_count": 24,
   "metadata": {},
   "outputs": [
    {
     "name": "stdout",
     "output_type": "stream",
     "text": [
      "['Rank', 'Branch']\n"
     ]
    }
   ],
   "source": [
    "col = ['Rank','Branch']\n",
    "print(col)"
   ]
  },
  {
   "attachments": {},
   "cell_type": "markdown",
   "metadata": {},
   "source": [
    "# User input"
   ]
  },
  {
   "cell_type": "code",
   "execution_count": 25,
   "metadata": {},
   "outputs": [
    {
     "name": "stdout",
     "output_type": "stream",
     "text": [
      "==================================================\n",
      "==================================================\n"
     ]
    },
    {
     "data": {
      "text/plain": [
       "[2465, 1]"
      ]
     },
     "execution_count": 25,
     "metadata": {},
     "output_type": "execute_result"
    }
   ],
   "source": [
    "usrip=[]\n",
    "for i in col:\n",
    "    print(\"==================================================\")\n",
    "    usrip.append(eval(input(i+\": \")))\n",
    "\n",
    "usrip"
   ]
  },
  {
   "attachments": {},
   "cell_type": "markdown",
   "metadata": {},
   "source": [
    "# Filtering dataset"
   ]
  },
  {
   "cell_type": "code",
   "execution_count": 26,
   "metadata": {},
   "outputs": [
    {
     "name": "stdout",
     "output_type": "stream",
     "text": [
      "39\n",
      "['AISSMS College of Engineering, Pune'\n",
      " \"All India Shri Shivaji Memorial Society's Institute of Information Technology,Pune\"\n",
      " \"Bharati Vidyapeeth's College of Engineering,Lavale, Pune\"\n",
      " \"Bharatiya Vidya Bhavan's Sardar Patel College of Engineering, Mumbai\"\n",
      " 'College of Engineering, Pune'\n",
      " 'Cummins College of Engineering for Women, Pune'\n",
      " \"Dr. D. Y. Patil Pratishthan's D.Y.Patil College of Engineering Akurdi, Pune\"\n",
      " \"Dr. D. Y. Patil Unitech Society's Dr. D. Y. Patil Institute of Technology, Pimpri, Pune\"\n",
      " 'Dwarkadas J. Sanghvi College of Engineering, Mumbai'\n",
      " 'Fr. C. Rodrigues Institute of Technology, Navi Mumbai'\n",
      " 'GH Raisoni College of Engineering, Nagpur'\n",
      " 'Government College of Engineering, Amravati'\n",
      " 'Government College of Engineering, Aurangabad'\n",
      " 'Government College of Engineering, Karad'\n",
      " 'Government College of Engineering, Nagpur'\n",
      " \"Jaywant Shikshan Prasarak Mandal's,Rajarshi Shahu College of Engineering\"\n",
      " \"K. E. Society's Rajarambapu Institute of Technology, Kolhapur\"\n",
      " 'K. J. Somaiya College of Engineering, Mumbai'\n",
      " 'K. K. Wagh Institute of Engineering Education and Research, Nashik'\n",
      " 'Kavikulguru Institute of Technology and Science, Nagpur'\n",
      " \"MGM's College of Engineering and Technology, Navi Mumbai\"\n",
      " 'MIT Academy of Engineering, Alandi'\n",
      " \"Marathwada Mitra Mandal's College of Engineering, Karvenagar, Pune\"\n",
      " \"Modern Education Society's College of Engineering, Pune\"\n",
      " 'PES Modern College of Engineering, Pune' 'PICT College, Pune'\n",
      " 'Pimpri Chinchwad College Of Engineering And Research, Ravet'\n",
      " 'Pimpri Chinchwad College of Engineering, Pune'\n",
      " 'Rajarambapu Institute of Technology, Sangli'\n",
      " \"Sandip Foundation's Sandip Institute of Technology and Research Centre, Nashik\"\n",
      " 'Sardar Patel Institute of Technology , Andheri, Mumbai'\n",
      " 'Shri Ramdeobaba College of Engineering and Management, Nagpur'\n",
      " 'Sinhgad College of Engineering, Pune'\n",
      " 'Thadomal Shahani Engineering College, Mumbai'\n",
      " 'Veermata Jijabai Technological Institute, Mumbai'\n",
      " 'Vishwakarma Institute of Technology, Pune'\n",
      " \"Vivekanand Education Society's Institute of Technology, Chembur, Mumbai\"\n",
      " 'Walchand College of Engineering, Sangli'\n",
      " 'Yeshwantrao Chavan College of Engineering, Nagpur']\n"
     ]
    }
   ],
   "source": [
    "filtered_df = df[(df['Branch'] == usrip[1])]\n",
    "# print(len(filtered_df))\n",
    "\n",
    "filtered_colg=np.unique(filtered_df['College Name'])\n",
    "print(len(filtered_colg))\n",
    "print(colg[filtered_colg])"
   ]
  },
  {
   "cell_type": "code",
   "execution_count": 27,
   "metadata": {},
   "outputs": [],
   "source": [
    "X_filtered = filtered_df.drop(columns=[\"College Name\"])\n",
    "Y_filtered = filtered_df['College Name']\n",
    "\n",
    "\n",
    "\n",
    "#Decision Tree Classifier\n",
    "# from sklearn.tree import DecisionTreeClassifier\n",
    "# X_train_filtered, X_test_filtered, y_train_filtered, y_test_filtered = train_test_split(X_filtered.values, Y_filtered, test_size=20)\n",
    "\n",
    "# clfdt = DecisionTreeClassifier()\n",
    "# clfdt.fit(X_train_filtered, y_train_filtered)\n",
    "\n",
    "# preddt = clfdt.predict(X_test_filtered)\n",
    "\n",
    "# accuracy_ft = clfdt.score(X_test_filtered, y_test_filtered)\n",
    "# accuracy_ft = eval(\"%0.2f\"%accuracy_ft)*100\n",
    "# print(\"Algorithm Score: \",accuracy_ft,\"%\")\n",
    "# print(\"Accuracy: \", accuracy_ft)\n",
    "\n",
    "\n",
    "\n",
    "# XGB\n",
    "from xgboost import XGBClassifier\n",
    "X_train_filtered, X_test_filtered, y_train_filtered, y_test_filtered = train_test_split(X_filtered.values, Y_filtered, test_size=20,random_state=36)\n",
    "\n",
    "from sklearn.preprocessing import LabelEncoder\n",
    "le = LabelEncoder()\n",
    "y_train_filtered = le.fit_transform(y_train_filtered)\n",
    "\n",
    "clfdt = XGBClassifier()\n",
    "clfdt.fit(X_train_filtered, y_train_filtered)\n",
    "\n",
    "y_pred_filtered = clf.predict(X_test_filtered)\n",
    "\n",
    "accuracy_ft = clfdt.score(X_test_filtered, y_test_filtered)\n",
    "# accuracy_ft = eval(\"%0.2f\"%accuracy)*100\n",
    "# print(\"Algorithm Score: \",accuracy_ft,\"%\")\n",
    "# print(\"Accuracy: \", accuracy_ft)\n",
    "\n",
    "\n",
    "\n",
    "# SVM\n",
    "# from sklearn.svm import SVC\n",
    "# from sklearn.preprocessing import StandardScaler\n",
    "\n",
    "# X_train_filtered, X_test_filtered, y_train_filtered, y_test_filtered = train_test_split(X_filtered.values, Y_filtered, test_size=20)\n",
    "\n",
    "# clf = SVC(kernel='linear')\n",
    "# clf.fit(X_train_filtered, y_train_filtered)\n",
    "\n",
    "# y_pred = clf.predict(X_test_filtered)\n",
    "\n",
    "# accuracy_ft = clf.score(X_test_filtered, y_test_filtered)\n",
    "# accuracy_ft = eval(\"%0.2f\"%accuracy)*100\n",
    "# print(\"Algorithm Score: \",accuracy_ft,\"%\")\n",
    "# print(\"Accuracy: \", accuracy_ft)\n",
    "\n",
    "\n",
    "\n",
    "\n",
    "# Random Forest\n",
    "# from sklearn.ensemble import RandomForestClassifier\n",
    "\n",
    "# X_train_filtered, X_test_filtered, y_train_filtered, y_test_filtered = train_test_split(X_filtered.values, Y_filtered, test_size=20)\n",
    "\n",
    "# clfdt = RandomForestClassifier()\n",
    "# clfdt.fit(X_train_filtered, y_train_filtered)\n",
    "\n",
    "# y_pred = clfdt.predict(X_test_filtered)\n",
    "\n",
    "# accuracy = clfdt.score(X_test_filtered, y_test_filtered)\n",
    "# accuracy_ft = eval(\"%0.2f\"%accuracy)*100\n",
    "# print(\"Algorithm Score: \",accuracy_ft,\"%\")\n",
    "# print(\"Accuracy: \", accuracy_ft)"
   ]
  },
  {
   "attachments": {},
   "cell_type": "markdown",
   "metadata": {},
   "source": [
    "# Prediction"
   ]
  },
  {
   "cell_type": "code",
   "execution_count": 28,
   "metadata": {},
   "outputs": [
    {
     "name": "stdout",
     "output_type": "stream",
     "text": [
      "[27]\n",
      "You may have chance to get entrance in:  ['Pimpri Chinchwad College of Engineering, Pune']\n"
     ]
    }
   ],
   "source": [
    "userpreddt = clfdt.predict([usrip])\n",
    "print(userpreddt)\n",
    "op = filtered_colg[userpreddt]\n",
    "print(\"You may have chance to get entrance in: \",colg[op])"
   ]
  },
  {
   "cell_type": "code",
   "execution_count": null,
   "metadata": {},
   "outputs": [],
   "source": []
  }
 ],
 "metadata": {
  "kernelspec": {
   "display_name": "Python 3 (ipykernel)",
   "language": "python",
   "name": "python3"
  },
  "language_info": {
   "codemirror_mode": {
    "name": "ipython",
    "version": 3
   },
   "file_extension": ".py",
   "mimetype": "text/x-python",
   "name": "python",
   "nbconvert_exporter": "python",
   "pygments_lexer": "ipython3",
   "version": "3.11.0"
  }
 },
 "nbformat": 4,
 "nbformat_minor": 2
}
